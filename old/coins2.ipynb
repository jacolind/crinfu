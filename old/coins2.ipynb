{
 "cells": [
  {
   "cell_type": "markdown",
   "metadata": {},
   "source": [
    "# About"
   ]
  },
  {
   "cell_type": "markdown",
   "metadata": {},
   "source": [
    "'''\n",
    "date created: 2018-04-09\n",
    "\n",
    "go from many csv files to a top k index fund return\n",
    "'''"
   ]
  },
  {
   "cell_type": "code",
   "execution_count": 1,
   "metadata": {
    "collapsed": true
   },
   "outputs": [],
   "source": [
    "import numpy as np\n",
    "import pandas as pd\n",
    "import glob\n",
    "import matplotlib.pyplot as plt\n",
    "import seaborn as sns\n",
    "#%matplotlib inline"
   ]
  },
  {
   "cell_type": "markdown",
   "metadata": {},
   "source": [
    "# initial dates"
   ]
  },
  {
   "cell_type": "code",
   "execution_count": 2,
   "metadata": {
    "collapsed": true
   },
   "outputs": [],
   "source": [
    "df0 = pd.read_csv('../../datasets/crypto-index-fund/crypto_data/CryptoData.csv', parse_dates=True)"
   ]
  },
  {
   "cell_type": "code",
   "execution_count": 3,
   "metadata": {
    "collapsed": true
   },
   "outputs": [],
   "source": [
    "df0.date = pd.to_datetime(df0.date)"
   ]
  },
  {
   "cell_type": "code",
   "execution_count": 4,
   "metadata": {
    "collapsed": true
   },
   "outputs": [],
   "source": [
    "initialdate_per_coin = df0.groupby('symbol').date.min()\n",
    "initialdate_per_coin.to_csv('output/initialdate_per_coin.csv')"
   ]
  },
  {
   "cell_type": "code",
   "execution_count": 5,
   "metadata": {},
   "outputs": [
    {
     "data": {
      "text/plain": [
       "symbol\n",
       "BTC     2013-04-28\n",
       "ETH     2015-08-07\n",
       "XRP     2013-08-04\n",
       "BCH     2017-07-23\n",
       "LTC     2013-04-28\n",
       "EOS     2017-07-01\n",
       "ADA     2017-10-01\n",
       "XLM     2014-08-05\n",
       "MIOTA   2017-06-13\n",
       "NEO     2016-09-09\n",
       "Name: date, dtype: datetime64[ns]"
      ]
     },
     "execution_count": 5,
     "metadata": {},
     "output_type": "execute_result"
    }
   ],
   "source": [
    "coins_top10today = ['BTC', 'ETH', 'XRP', 'BCH', 'LTC', \n",
    "                   'EOS', 'ADA', 'XLM', 'MIOTA', 'NEO']\n",
    "initialdate_per_coin.T[coins_top10today]"
   ]
  },
  {
   "cell_type": "code",
   "execution_count": 6,
   "metadata": {
    "collapsed": true
   },
   "outputs": [],
   "source": [
    "del df0"
   ]
  },
  {
   "cell_type": "markdown",
   "metadata": {},
   "source": [
    "# import \n"
   ]
  },
  {
   "cell_type": "code",
   "execution_count": 7,
   "metadata": {},
   "outputs": [
    {
     "name": "stderr",
     "output_type": "stream",
     "text": [
      "/home/j/anaconda3/lib/python3.6/site-packages/IPython/core/interactiveshell.py:2698: DtypeWarning: Columns (15,16,27,28,39,40,51,52,75,76,87,88,99,100,111,112,123,124,135,136,147,148,159,160,171,172,183,184,195,196,207,208,219,220,231,232,243,244,255,256,267,268,279,280,291,292,303,304,315,316,327,328,339,340,351,352,363,364,375,376,387,388,399,400,411,412,423,424,435,436,447,448,459,460,471,472,483,484,495,496,507,508,519,520,531,532,543,544,555,556,567,568,579,580,591,592,603,604,615,616,627,628,639,640,651,652,663,664,675,676,687,688,699,700,711,712,723,724,735,736,747,748,759,760,771,772,783,784,795,796,807,808,819,820,831,832,843,844,855,856,867,868,879,880,891,892,903,904,915,916,927,928,939,940,951,952,963,964,975,976,987,988,999,1000,1011,1012,1023,1024,1035,1036,1047,1048,1059,1060,1071,1072,1083,1084,1095,1096,1107,1108,1119,1120,1131,1132,1143,1144,1155,1156,1167,1168,1179,1180,1191,1192,1203,1204,1215,1216,1227,1228,1239,1240,1251,1252,1263,1264,1275,1276,1287,1288,1299,1300,1311,1312,1323,1324,1335,1336,1347,1348,1359,1360,1371,1372,1383,1384,1395,1396,1407,1408,1419,1420,1431,1432,1443,1444,1455,1456,1467,1468,1479,1480,1491,1492,1503,1504,1515,1516,1527,1528,1539,1540,1551,1552,1563,1564,1575,1576,1587,1588,1599,1600,1611,1612,1623,1624,1635,1636,1647,1648,1659,1660,1671,1672,1683,1684,1695,1696,1707,1708,1719,1720,1731,1732,1743,1744,1755,1756,1767,1768,1779,1780,1791,1792,1803,1804,1815,1816,1827,1828,1839,1840,1851,1852,1863,1864,1875,1876,1887,1888,1899,1900,1911,1912,1923,1924,1935,1936,1947,1948,1959,1960,1971,1972,1983,1984,1995,1996,2007,2008,2019,2020,2031,2032,2043,2044,2055,2056,2067,2068,2079,2080,2091,2092,2103,2104,2115,2116,2127,2128,2139,2140,2151,2152,2163,2164,2175,2176,2187,2188,2199,2200,2211,2212,2223,2224,2235,2236,2247,2248,2259,2260,2271,2272,2283,2284,2295,2296,2307,2308,2319,2320,2331,2332,2343,2344,2355,2356,2367,2368,2391,2392,2415,2416,2427,2428,2439,2440,2451,2452,2463,2464,2475,2476,2487,2488,2499,2500,2511,2512,2523,2524,2535,2536,2547,2548,2559,2560,2571,2572,2583,2584,2595,2596,2607,2608,2619,2620,2631,2632,2643,2644,2655,2656,2667,2668,2679,2680,2691,2692,2703,2704,2715,2716,2727,2728,2739,2740,2751,2752,2763,2764,2775,2776,2787,2788,2799,2800,2811,2812,2823,2824,2835,2836,2847,2848,2859,2860,2871,2872,2883,2884,2895,2896,2907,2908,2919,2920,2931,2932,2943,2944,2955,2956,2967,2968,2979,2980,2991,2992,3003,3004,3015,3016,3027,3028,3039,3040,3051,3052,3063,3064,3075,3076,3087,3088,3099,3100,3111,3112,3123,3124,3135,3136,3147,3148,3159,3160,3171,3172,3183,3184,3195,3196,3207,3208,3219,3220,3231,3232,3243,3244,3255,3256,3267,3268,3279,3280,3291,3292,3315,3316,3327,3328,3339,3340,3351,3352,3363,3364,3375,3376,3387,3388,3399,3400,3411,3412,3423,3424,3435,3436,3447,3448,3459,3460,3471,3472,3483,3484,3495,3496,3507,3508,3519,3520,3531,3532,3543,3544,3555,3556,3567,3568,3579,3580,3591,3592,3603,3604,3615,3616,3627,3628,3639,3640,3651,3652,3663,3664,3675,3676,3687,3688,3699,3700,3711,3712,3723,3724,3735,3736,3747,3748,3759,3760,3771,3772,3783,3784,3795,3796,3807,3808,3819,3820,3831,3832,3843,3844,3855,3856,3867,3868,3879,3880,3891,3892,3903,3904,3915,3916,3927,3928,3939,3940,3951,3952,3963,3964,3975,3976,3987,3988,3999,4000,4011,4012,4023,4024,4035,4036,4047,4048,4059,4060,4071,4072,4083,4084,4095,4096,4107,4108,4119,4120,4131,4132,4143,4144,4155,4156,4167,4168,4179,4180,4191,4192,4203,4204,4215,4216,4227,4228,4239,4240,4251,4252,4263,4264,4275,4276,4287,4288,4299,4300,4311,4312,4323,4324,4335,4336,4347,4348,4359,4360,4371,4372,4383,4384,4395,4396,4407,4408,4419,4420,4431,4432,4443,4444,4455,4456,4467,4468,4479,4480,4491,4492,4503,4504,4515,4516,4527,4528,4539,4540,4551,4552,4563,4564,4575,4576,4587,4588,4599,4600,4611,4612,4623,4624,4635,4636,4647,4648,4659,4660,4671,4672,4683,4684,4695,4696,4707,4708,4719,4720,4731,4732,4743,4744,4755,4756,4767,4768,4779,4780,4791,4792,4803,4804,4815,4816,4827,4828,4839,4840,4851,4852,4863,4864,4875,4876,4887,4888,4899,4900,4911,4912,4923,4924,4935,4936,4947,4948,4959,4960,4971,4972,4983,4984,4995,4996,5007,5008,5019,5020,5031,5032,5043,5044,5055,5056,5067,5068,5079,5080,5091,5092,5103,5104,5115,5116,5127,5128,5139,5140,5151,5152,5163,5164,5175,5176,5187,5188,5199,5200,5211,5212,5223,5224,5235,5236,5247,5248,5259,5260,5271,5272,5283,5284,5295,5296,5307,5308,5319,5320,5331,5332,5343,5344,5355,5356,5367,5368,5379,5380,5391,5392,5403,5404,5415,5416,5427,5428,5439,5440,5451,5452,5463,5464,5475,5476,5487,5488,5499,5500,5511,5512,5523,5524,5535,5536,5547,5548,5559,5560,5571,5572,5583,5584,5595,5596,5607,5608,5619,5620,5631,5632,5643,5644,5655,5656,5667,5668,5679,5680,5691,5692,5703,5704,5715,5716,5727,5728,5739,5740,5751,5752,5763,5764,5775,5776,5787,5788,5799,5800,5811,5812,5823,5824,5835,5836,5847,5848,5859,5860,5871,5872,5883,5884,5895,5896,5907,5908,5919,5920,5931,5932,5943,5944,5955,5956,5967,5968,5979,5980,5991,5992,6003,6004,6015,6016,6027,6028,6039,6040,6051,6052,6063,6064,6075,6076,6087,6088,6099,6100,6111,6112,6123,6124,6135,6136,6147,6148,6159,6160,6171,6172,6183,6184,6195,6196,6207,6208,6219,6220,6231,6232,6255,6256,6267,6268,6279,6280,6291,6292,6303,6304,6315,6316,6327,6328,6339,6340,6351,6352,6363,6364,6375,6376,6387,6388,6399,6400,6411,6412,6423,6424,6435,6436,6447,6448,6459,6460,6471,6472,6483,6484,6495,6496,6507,6508,6519,6520,6531,6532,6543,6544,6555,6556,6567,6568,6579,6580,6591,6592,6603,6604,6615,6616,6627,6628,6639,6640,6651,6652,6663,6664,6675,6676,6687,6688,6699,6700,6711,6712,6723,6724,6735,6736,6747,6748,6759,6760,6771,6772,6783,6784,6795,6796,6807,6808,6819,6820,6831,6832,6843,6844,6855,6856,6867,6868,6879,6880,6891,6892,6903,6904,6915,6916,6927,6928,6939,6940,6951,6952,6963,6964,6975,6976,6987,6988,6999,7000,7011,7012,7023,7024,7035,7036,7047,7048,7059,7060,7071,7072,7083,7084,7095,7096,7107,7108,7119,7120,7131,7132,7143,7144,7155,7156,7167,7168,7179,7180,7191,7192,7203,7204,7215,7216,7227,7228,7239,7240,7251,7252,7263,7264,7275,7276,7287,7288,7299,7300,7311,7312,7323,7324,7335,7336,7347,7348,7359,7360,7371,7372,7383,7384,7395,7396,7407,7408,7419,7420,7431,7432,7443,7444,7455,7456,7467,7468,7479,7480,7503,7504,7515,7516,7527,7528,7539,7540,7551,7552,7563,7564,7575,7576,7587,7588,7599,7600,7611,7612,7623,7624,7635,7636,7647,7648,7659,7660,7671,7672,7683,7684,7695,7696,7707,7708,7719,7720,7731,7732,7743,7744,7755,7756,7767,7768,7779,7780,7791,7792,7803,7804,7815,7816,7827,7828,7839,7840,7851,7852,7863,7864,7875,7876,7887,7888,7899,7900,7911,7912,7923,7924,7935,7936,7947,7948,7959,7960,7971,7972,7983,7984,7995,7996,8007,8008,8019,8020,8031,8032,8043,8044,8055,8056,8067,8068,8079,8080,8091,8092,8103,8104,8115,8116,8127,8128,8139,8140,8151,8152,8163,8164,8175,8176,8187,8188,8199,8200,8211,8212,8223,8224,8235,8236,8247,8248,8259,8260,8271,8272,8283,8284,8295,8307,8308,8319,8320,8331,8332,8343,8344,8355,8356,8367,8368,8379,8380,8391,8392,8403,8404,8415,8416,8427,8428,8439,8440,8451,8452,8463,8464,8475,8476,8487,8488,8499,8500,8511,8512,8523,8524,8535,8536,8547,8548,8559,8560,8571,8572,8583,8584,8595,8596,8607,8608,8619,8620,8631,8632,8643,8644,8655,8656,8667,8668,8679,8680,8691,8692,8703,8704,8715,8716,8727,8728,8739,8740,8751,8752,8763,8764,8775,8776,8787,8788,8799,8800,8811,8812,8823,8824,8835,8836,8847,8848,8859,8860,8871,8872,8883,8884,8895,8896,8907,8908,8919,8920,8931,8932,8943,8944,8955,8956,8967,8968,8979,8980,8991,8992,9003,9004,9015,9016,9027,9028,9039,9040,9051,9052,9063,9064,9075,9076,9087,9088,9099,9100,9111,9112,9123,9124,9135,9136,9159,9171,9172,9183,9184,9195,9196,9207,9208,9219,9220,9231,9232,9243,9244,9255,9256,9267,9268,9279,9280,9291,9292,9303,9304,9315,9316,9327,9328,9339,9340,9351,9352,9363,9364,9375,9376,9387,9388,9399,9400,9411,9412,9423,9424,9435,9436,9447,9448,9459,9460,9471,9472,9483,9484,9495,9496,9507,9508,9519,9520,9531,9532,9543,9544,9555,9556,9567,9568,9579,9580,9591,9592,9603,9604,9615,9616,9627,9628,9639,9640,9651,9652,9663,9664,9675,9676,9687,9688,9699,9700,9711,9712,9723,9724,9735,9736,9747,9748,9759,9760,9771,9772,9783,9784,9795,9796,9807,9808,9819,9820,9831,9832,9843,9844,9855,9856,9879,9880,9891,9892,9903,9904,9915,9916,9927,9928,9939,9940,9951,9952,9963,9964,9975,9976,9987,9988,9999,10000,10011,10012,10023,10024,10035,10036,10047,10048,10059,10060,10071,10072,10083,10084,10095,10096,10107,10108,10119,10120,10131,10132,10143,10144,10155,10156,10167,10168,10179,10180,10191,10192,10203,10204,10215,10216,10227,10228,10239,10240,10251,10252,10263,10264,10275,10276,10287,10288,10299,10300,10311,10312,10323,10324,10335,10336,10347,10348,10359,10360,10371,10372,10383,10384,10395,10396,10407,10408,10419,10420,10431,10432,10443,10444,10455,10456,10467,10468,10479,10480,10491,10492,10503,10504,10515,10516,10527,10528,10539,10540,10551,10552,10563,10564,10575,10576,10587,10588,10599,10600,10611,10612,10623,10624,10635,10636,10647,10648,10659,10660,10671,10672,10683,10684,10695,10696,10707,10708,10719,10720,10731,10732,10743,10744,10755,10756,10767,10768,10779,10780,10791,10792,10803,10804,10815,10816,10827,10828,10839,10840,10851,10852,10863,10864,10875,10876,10887,10899,10900,10911,10912,10923,10924,10935,10936,10947,10948,10959,10971,10972,10983,10984,10995,10996,11007,11008,11019,11020,11031,11032,11043,11044,11055,11056,11067,11068,11079,11080,11091,11092,11103,11104,11115,11116,11127,11128,11139,11140,11151,11152,11163,11164,11175,11176,11187,11188,11199,11200,11211,11212,11223,11224,11235,11236,11247,11248,11259,11260,11271,11272,11283,11284,11295,11296,11307,11308,11319,11320,11331,11332,11343,11344,11355,11356,11367,11368,11379,11380,11391,11392,11403,11404,11415,11416,11427,11428,11439,11440,11451,11452,11463,11464,11475,11476,11487,11488,11499,11500,11511,11512,11523,11524,11535,11536,11547,11548,11559,11560,11571,11572,11583,11584,11595,11596,11607,11608,11619,11620,11631,11632,11643,11644,11655,11656,11667,11668,11679,11680,11691,11692,11703,11704,11715,11716,11727,11728,11739,11740,11751,11752,11763,11764,11775,11776,11787,11788,11799,11800,11811,11812,11823,11824,11835,11836,11847,11848,11859,11860,11871,11872,11883,11884,11895,11896,11907,11908,11919,11920,11931,11932,11943,11944,11955,11956,11967,11968,11979,11980,11991,11992,12003,12004,12015,12016,12027,12028,12039,12040,12051,12052,12063,12064,12075,12076,12087,12088,12099,12100,12111,12112,12123,12124,12135,12136,12147,12148,12159,12160,12171,12172,12183,12184,12195,12196,12207,12208,12219,12220,12231,12232,12243,12244,12255,12256,12267,12268,12279,12280,12291,12292,12303,12304,12315,12316,12327,12328,12339,12340,12351,12352,12363,12364,12375,12376,12387,12388,12399,12400,12411,12412,12423,12424,12435,12436,12447,12448,12459,12460,12471,12472,12483,12484,12495,12496,12507,12508,12519,12520,12531,12532,12543,12544,12555,12556,12567,12568,12579,12580,12591,12592,12603,12604,12615,12616,12627,12628,12639,12640,12651,12652,12663,12664,12675,12676,12687,12688,12699,12700,12711,12712,12723,12724,12735,12736,12747,12748,12759,12760,12771,12772,12783,12784,12795,12796,12807,12808,12819,12820,12831,12832,12843,12844,12855,12856,12867,12868,12879,12880,12891,12892,12903,12904,12915,12916,12927,12928,12939,12940,12951,12952,12963,12964,12975,12976,12987,12988,12999,13000,13011,13012,13023,13024,13035,13036,13047,13048,13059,13060,13071,13072,13083,13084,13095,13096,13107,13108,13119,13120,13143,13144,13155,13156,13167,13168,13179,13180,13191,13192,13203,13204,13215,13216,13227,13228,13239,13240,13251,13252,13263,13264,13275,13276,13287,13288,13299,13300,13311,13312,13323,13335,13336,13347,13348,13359,13360,13371,13372,13383,13384,13395,13396,13407,13408,13419,13420,13431,13432,13443,13444,13455,13456,13467,13468,13479,13480,13491,13492,13503,13504,13515,13516,13527,13528,13539,13540,13551,13552,13563,13564,13575,13576,13587,13588,13599,13600,13611,13612,13623,13624,13635,13636,13647,13648,13659,13660,13671,13672,13683,13684,13695,13696,13707,13708,13719,13720,13731,13732,13743,13744,13755,13756,13767,13779,13780,13791,13792,13803,13804,13815,13816,13827,13828,13839,13840,13851,13852,13863,13864,13875,13876,13887,13888,13899,13900,13911,13912,13923,13924,13935,13936,13947,13948,13959,13960,13971,13972,13983,13984,13995,13996,14007,14008,14019,14020,14031,14032,14043,14044,14055,14056,14067,14068,14079,14080,14091,14092,14103,14104,14115,14116,14127,14128,14139,14140,14151,14152,14163,14164,14175,14176,14187,14188,14199,14200,14211,14212,14223,14224,14235,14236,14247,14248,14259,14260,14271,14272,14283,14284,14295,14296,14307,14308,14319,14320,14331,14332,14343,14344,14355,14356,14367,14368,14379,14380,14391,14392,14403,14404,14415,14416,14427,14428,14439,14440,14451,14452,14463,14464,14475,14476,14487,14488,14499,14500,14511,14512,14523,14524,14535,14536,14547,14548,14559,14560,14571,14572,14583,14584,14595,14596,14607,14608,14619,14620,14631,14632,14643,14644,14655,14656,14667,14668,14679,14680,14691,14692,14703,14704,14715,14716,14727,14728,14739,14740,14751,14752,14763,14764,14775,14776,14787,14788,14799,14800,14811,14812,14823,14824,14835,14836,14847,14848,14859,14860,14871,14872,14883,14884,14895,14896,14907,14908,14919,14920,14931,14932,14943,14944,14955,14956,14967,14968,14979,14980,14991,14992,15003,15004,15015,15016,15027,15028,15039,15040,15051,15052,15063,15064,15075,15076,15087,15088,15099,15100,15111,15112,15123,15124,15135,15136,15147,15148,15159,15160,15171,15172,15183,15184,15195,15196,15207,15208,15219,15220,15231,15232,15243,15244,15255,15256,15267,15268,15279,15280,15291,15292,15303,15304,15315,15316,15327,15328,15339,15340,15351,15352,15363,15364,15375,15376,15387,15388,15399,15400,15411,15412,15423,15424,15435,15436,15447,15448,15459,15460,15471,15472,15483,15484,15495,15496,15507,15508,15519,15520,15531,15532,15543,15544,15555,15556,15567,15568,15579,15580,15591,15592,15603,15604,15615,15616,15627,15628,15639,15640,15651,15652,15663,15664,15675,15676,15687,15688,15699,15700,15711,15712,15723,15724,15735,15736,15747,15748,15759,15760,15771,15772,15783,15784,15795,15796,15807,15808,15819,15820,15831,15832,15843,15844,15855,15856,15867,15868,15879,15880,15891,15892,15903,15904,15915,15916,15927,15928,15939,15940,15951,15952,15963,15964,15975,15976,15987,15988,15999,16000,16011,16012,16023,16024,16035,16036,16047,16048,16059,16060,16071,16072,16083,16084,16095,16096,16107,16108,16119,16120,16131,16132,16143,16144,16155,16156,16167,16168,16179,16180,16191,16192,16203,16204,16215,16216,16227,16228,16239,16240,16251,16252,16263,16264,16275,16276,16287,16288,16299,16300,16311,16312,16323,16324,16335,16336,16347,16348,16359,16360,16371,16372,16383,16384,16395,16396,16407,16408,16419,16420,16431,16432,16443,16444,16455,16456,16467,16468,16479,16480,16491,16492,16503,16504,16515,16516,16527,16528,16539,16540,16551,16552,16563,16564,16575,16576,16587,16588,16599,16600,16611,16612,16623,16624,16635,16636,16647,16648,16659,16660,16671,16672,16683,16684,16695,16696,16707,16708,16719,16720,16731,16732,16743,16744,16755,16756,16767,16768,16779,16780,16791,16792,16803,16804,16815,16816,16827,16828,16839,16840,16851,16852,16863,16864,16875,16876,16887,16888,16899,16900,16911,16912,16923,16924,16935,16936,16947,16948,16959,16960,16971,16972,16983,16984,16995,16996,17007,17008,17019,17020,17031,17032,17043,17044,17055,17056,17067,17068,17079,17080,17091,17092,17103,17104,17115,17116,17127,17128,17139,17140,17151,17152,17163,17164,17175,17176,17187,17188,17199,17200,17211,17212,17223,17224,17235,17236,17247,17248,17259,17260,17271,17272,17283,17284,17295,17296,17307,17308,17319,17320,17331,17332,17343,17344,17355,17356,17367,17368,17379,17380,17391,17392,17403,17404,17415,17416,17427,17428,17439,17440,17451,17452,17463,17464,17475,17476,17487,17488,17499,17500,17511,17512,17523,17524,17535,17536,17547,17548,17559,17560,17571,17572,17583,17584,17595,17596,17607,17608,17619,17620,17631,17632,17643,17644,17655,17656,17667,17668,17679,17680,17691,17692,17703,17704,17715,17716,17727,17728,17739,17740,17751,17752,17763,17764,17775,17776,17787,17788,17799,17800,17811,17812,17823,17824,17835,17836,17847,17848,17859,17860,17871,17872,17883,17884,17895,17896,17907,17908,17919,17920,17931,17932,17943,17944,17955,17956,17967,17968,17979,17980,17991,17992,18003,18004,18015,18016,18027,18028,18039,18040,18051,18052,18063,18064,18075,18076,18087,18088,18099,18100,18111,18112,18123,18124,18135,18136,18147,18148,18159,18160,18171,18172,18183,18184,18195,18196,18207,18208,18219,18220,18231,18232,18243,18244,18255,18256,18267,18268,18279,18280,18291,18292,18303,18304,18315,18316,18327,18328,18339,18340,18351,18352,18363,18364,18375,18376,18387,18388,18399,18400,18411,18412,18423,18424,18435,18436,18447,18448,18459,18460,18471,18472,18483,18484,18495,18496,18507,18508,18519,18520,18531,18532,18543,18544,18555,18556,18567,18568,18579,18580,18591,18592,18603,18604,18615,18616,18627,18628,18639,18640,18651,18652,18663,18664,18675,18676,18687,18688,18699,18700,18711,18712,18723,18724,18735,18736) have mixed types. Specify dtype option on import or set low_memory=False.\n",
      "  interactivity=interactivity, compiler=compiler, result=result)\n"
     ]
    }
   ],
   "source": [
    "df = pd.read_csv('../../datasets/crypto-index-fund/crypto_data/CryptoDataWide.csv', parse_dates=True)"
   ]
  },
  {
   "cell_type": "code",
   "execution_count": 8,
   "metadata": {
    "collapsed": true
   },
   "outputs": [],
   "source": [
    "# index date\n",
    "df['date'] = pd.to_datetime(df.date)\n",
    "df.set_index('date', inplace=True)"
   ]
  },
  {
   "cell_type": "code",
   "execution_count": 9,
   "metadata": {
    "collapsed": true
   },
   "outputs": [],
   "source": [
    "# begin at the start of a month\n",
    "# och gör det att binarizer inte ger summa > 10 för dom första raderna? ngn bugg i den annars. \n",
    "\n",
    "# df = df.loc['2013-05-08':] #testa utan denna"
   ]
  },
  {
   "cell_type": "markdown",
   "metadata": {},
   "source": [
    "# create matrices: price, mcap, volume"
   ]
  },
  {
   "cell_type": "code",
   "execution_count": 10,
   "metadata": {
    "collapsed": true
   },
   "outputs": [],
   "source": [
    "price_mat = df.filter(regex='^open.').fillna(0)\n",
    "mcap_mat = df.filter(regex='^market').fillna(0)\n",
    "volumes = df.filter(regex='^volume').fillna(0)"
   ]
  },
  {
   "cell_type": "code",
   "execution_count": 11,
   "metadata": {
    "collapsed": true
   },
   "outputs": [],
   "source": [
    "names = [n.replace('open.', '') for n in price_mat.columns]"
   ]
  },
  {
   "cell_type": "code",
   "execution_count": 12,
   "metadata": {
    "collapsed": true
   },
   "outputs": [],
   "source": [
    "price_mat.columns = names\n",
    "mcap_mat.columns = names\n",
    "volumes.columns = names"
   ]
  },
  {
   "cell_type": "code",
   "execution_count": 13,
   "metadata": {},
   "outputs": [
    {
     "data": {
      "text/plain": [
       "(1810, 1562)"
      ]
     },
     "execution_count": 13,
     "metadata": {},
     "output_type": "execute_result"
    }
   ],
   "source": [
    "T = price_mat.shape[0]\n",
    "nr_coins = price_mat.shape[1]\n",
    "price_mat.shape"
   ]
  },
  {
   "cell_type": "code",
   "execution_count": 14,
   "metadata": {
    "collapsed": true
   },
   "outputs": [],
   "source": [
    "assert mcap_mat.shape == price_mat.shape"
   ]
  },
  {
   "cell_type": "markdown",
   "metadata": {},
   "source": [
    "todo: gör dictionary med name & symbol. jag föredrar symbol. "
   ]
  },
  {
   "cell_type": "markdown",
   "metadata": {},
   "source": [
    "## check"
   ]
  },
  {
   "cell_type": "code",
   "execution_count": 15,
   "metadata": {},
   "outputs": [
    {
     "data": {
      "text/plain": [
       "0.51385400000000003"
      ]
     },
     "execution_count": 15,
     "metadata": {},
     "output_type": "execute_result"
    }
   ],
   "source": [
    "# comparisons below => looked ok \n",
    "mcap_mat.loc['2018-04-01', 'Bitcoin'], #116889698943 from online \n",
    "price_mat.loc['2018-04-01', 'Bitcoin'] # from online $6,895.74\n",
    "mcap_mat.loc['2018-04-01', 'Litecoin'] # $6,440,675,643from online\n",
    "price_mat.loc['2018-04-01', 'Litecoin'] # $115.25      from online\n",
    "mcap_mat.loc['2018-04-01', 'Ripple'] #  $19,620,488,346  from online\n",
    "price_mat.loc['2018-04-01', 'Ripple'] # $0.50      from online"
   ]
  },
  {
   "cell_type": "code",
   "execution_count": 16,
   "metadata": {
    "collapsed": true
   },
   "outputs": [],
   "source": [
    "# compare all coins last 5 days with coinmarketcap.com\n",
    "# price_mat.tail()\n",
    "# mcap_mat.tai()"
   ]
  },
  {
   "cell_type": "markdown",
   "metadata": {},
   "source": [
    "comparing with https://coinmarketcap.com/historical/20180408/ we have the correct cols now: market cap is 45 million USD and our dataset tells us 36 million so that's ok. "
   ]
  },
  {
   "cell_type": "code",
   "execution_count": 17,
   "metadata": {
    "collapsed": true
   },
   "outputs": [],
   "source": [
    "if True==0:\n",
    "    price_mat['Ethereum'].plot()\n",
    "    plt.title('Ethereum price')\n",
    "    plt.show()"
   ]
  },
  {
   "cell_type": "markdown",
   "metadata": {},
   "source": [
    "For more checks, see coins2_20180415_1017.html"
   ]
  },
  {
   "cell_type": "markdown",
   "metadata": {},
   "source": [
    "# monthly\n",
    "\n",
    "we use monthly prices"
   ]
  },
  {
   "cell_type": "code",
   "execution_count": 18,
   "metadata": {
    "collapsed": true
   },
   "outputs": [],
   "source": [
    "# backup\n",
    "daily_price_mat = price_mat\n",
    "daily_mcap_mat = mcap_mat\n",
    "\n",
    "month_price_mat = daily_price_mat.resample('M', convention='start').asfreq()\n",
    "month_mcap_mat = daily_mcap_mat.resample('M', convention='start').asfreq()"
   ]
  },
  {
   "cell_type": "code",
   "execution_count": 19,
   "metadata": {
    "collapsed": true
   },
   "outputs": [],
   "source": [
    "# monthly data: the 10th\n",
    "#month_price_mat = daily_price_mat.loc[daily_price_mat.index.day == 10]\n",
    "#month_mcap_mat = daily_mcap_mat.loc[daily_mcap_mat.index.day == 10]"
   ]
  },
  {
   "cell_type": "code",
   "execution_count": 20,
   "metadata": {},
   "outputs": [
    {
     "data": {
      "text/plain": [
       "DatetimeIndex(['2013-04-30', '2013-05-31', '2013-06-30', '2013-07-31',\n",
       "               '2013-08-31', '2013-09-30', '2013-10-31', '2013-11-30',\n",
       "               '2013-12-31', '2014-01-31', '2014-02-28', '2014-03-31',\n",
       "               '2014-04-30', '2014-05-31', '2014-06-30', '2014-07-31',\n",
       "               '2014-08-31', '2014-09-30', '2014-10-31', '2014-11-30',\n",
       "               '2014-12-31', '2015-01-31', '2015-02-28', '2015-03-31',\n",
       "               '2015-04-30', '2015-05-31', '2015-06-30', '2015-07-31',\n",
       "               '2015-08-31', '2015-09-30', '2015-10-31', '2015-11-30',\n",
       "               '2015-12-31', '2016-01-31', '2016-02-29', '2016-03-31',\n",
       "               '2016-04-30', '2016-05-31', '2016-06-30', '2016-07-31',\n",
       "               '2016-08-31', '2016-09-30', '2016-10-31', '2016-11-30',\n",
       "               '2016-12-31', '2017-01-31', '2017-02-28', '2017-03-31',\n",
       "               '2017-04-30', '2017-05-31', '2017-06-30', '2017-07-31',\n",
       "               '2017-08-31', '2017-09-30', '2017-10-31', '2017-11-30',\n",
       "               '2017-12-31', '2018-01-31', '2018-02-28', '2018-03-31',\n",
       "               '2018-04-30'],\n",
       "              dtype='datetime64[ns]', name='date', freq='M')"
      ]
     },
     "execution_count": 20,
     "metadata": {},
     "output_type": "execute_result"
    }
   ],
   "source": [
    "# do note the freq\n",
    "daily_mcap_mat.resample('M').asfreq().index"
   ]
  },
  {
   "cell_type": "code",
   "execution_count": 21,
   "metadata": {
    "collapsed": true
   },
   "outputs": [],
   "source": [
    "# choose \n",
    "freq = 'Monthly'\n",
    "\n",
    "if freq == 'Monthly':\n",
    "    price_mat = month_price_mat\n",
    "    mcap_mat = month_mcap_mat\n",
    "else:\n",
    "    price_mat = daily_price_mat\n",
    "    mcap_mat = daily_mcap_mat"
   ]
  },
  {
   "cell_type": "code",
   "execution_count": 22,
   "metadata": {},
   "outputs": [
    {
     "data": {
      "text/plain": [
       "<MonthEnd>"
      ]
     },
     "execution_count": 22,
     "metadata": {},
     "output_type": "execute_result"
    }
   ],
   "source": [
    "mcap_mat.index.freq"
   ]
  },
  {
   "cell_type": "markdown",
   "metadata": {},
   "source": [
    "# choose nr of coins in the fund"
   ]
  },
  {
   "cell_type": "code",
   "execution_count": 23,
   "metadata": {
    "collapsed": true
   },
   "outputs": [],
   "source": [
    "c = 10"
   ]
  },
  {
   "cell_type": "markdown",
   "metadata": {},
   "source": [
    "# create B and W matrices"
   ]
  },
  {
   "cell_type": "markdown",
   "metadata": {},
   "source": [
    "fundret = return matrix * weights.shift(1)\n",
    "fundret = fundret.T.sum()\n",
    "måste vara korrekt. \n",
    "weigths = mcap * binary (& sen normera). \n",
    "\n",
    "B matrix selects the top 10 coins, and contains only ones and zeroes - each row summing to 10.\n",
    "\n",
    "W is a matrix with how much weights a certain coin give to the fund - each row summing to 1."
   ]
  },
  {
   "cell_type": "code",
   "execution_count": 24,
   "metadata": {
    "collapsed": true
   },
   "outputs": [],
   "source": [
    "def top_binarizer(row, p):\n",
    "    \"\"\"\n",
    "    Return 1 if a coin's mcap is within top p\n",
    "    return 0 otherwise\n",
    "    \"\"\"\n",
    "    t = p-1\n",
    "    row = pd.Series(row) #maybe not needed but safer \n",
    "    #row.nlargest(5) # does not work very strange\n",
    "    row_sorted = row.sort_values(ascending=False)\n",
    "    #threshold = row_sorted.head(p).min() #11th value\n",
    "    threshold = row_sorted[t] #10th value\n",
    "    coins = row_sorted[0:t].index\n",
    "    coins, threshold #check\n",
    "    #Give a zero if a coin's mcap is less than threshold:\n",
    "    binary = (row.values >= threshold).astype('int')\n",
    "    return binary\n",
    "# todo later: create a warning if two have identical market cap because nlargest just takes on eof them "
   ]
  },
  {
   "cell_type": "code",
   "execution_count": 25,
   "metadata": {
    "collapsed": true
   },
   "outputs": [],
   "source": [
    "## all of the above steps \"current script\" in a few functions\n",
    "\n",
    "def create_wbl(mcap_mat, p=c):\n",
    "    \"\"\"\n",
    "    input market cap matrix, and p\n",
    "    output for a top p fund: weights matrix (w), binary matrix (b), and list of coins (c)\n",
    "    \"\"\"\n",
    "    # binary matrix selects coins:\n",
    "    b = mcap_mat.apply(top_binarizer, p=p, axis=1)\n",
    "    # mcap of the selected:\n",
    "    marketcap_sel = mcap_mat.fillna(0) * b#.shift(-1) # shift +1 or -1\n",
    "    # normalize by row:\n",
    "    w = marketcap_sel.div(marketcap_sel.sum(axis=1), axis=0)    \n",
    "    return w, b"
   ]
  },
  {
   "cell_type": "code",
   "execution_count": 26,
   "metadata": {},
   "outputs": [
    {
     "name": "stdout",
     "output_type": "stream",
     "text": [
      "Coins that once has been in top 10 \n",
      " Index(['Bitcoin', 'Ethereum', 'Ripple', 'Bitcoin Cash', 'EOS', 'Litecoin',\n",
      "       'Cardano', 'Stellar', 'NEO', 'IOTA', 'Monero', 'Dash', 'NEM',\n",
      "       'Ethereum Classic', 'Lisk', 'Bitcoin Gold', 'Steem', 'Bytecoin',\n",
      "       'BitShares', 'DigixDAO', 'Stratis', 'Dogecoin', 'Waves', 'Augur',\n",
      "       'Golem', 'Factom', 'Nxt', 'MaidSafeCoin', 'Emercoin', 'Peercoin',\n",
      "       'Feathercoin', 'Counterparty', 'Namecoin', 'BlackCoin', 'Primecoin',\n",
      "       'Omni', 'BitConnect', 'Auroracoin', 'Novacoin', 'Terracoin',\n",
      "       'WorldCoin', 'Digitalcoin', 'PayCoin', 'Ixcoin', 'Quark', 'Bullion',\n",
      "       'Megacoin', 'Freicoin', 'Yacoin', 'Mincoin', 'Infinitecoin'],\n",
      "      dtype='object')\n"
     ]
    }
   ],
   "source": [
    "# create w and b and coin list\n",
    "w_mat, b_mat = create_wbl(mcap_mat, p=c)\n",
    "\n",
    "# two choices:\n",
    "# a\n",
    "# use everything in mcap except last row which is NA \n",
    "# (due to .resample selects last day)\n",
    "# w_mat, b_mat = create_wbl(mcap_mat.iloc[:-1], p=10)\n",
    "# b\n",
    "# w_mat, b_mat = create_wbl(mcap_mat, p=10)\n",
    "# use >1 instead of >0 in coins_infund below\n",
    "\n",
    "coins_all = b_mat.sum().index\n",
    "coins_infund = coins_all[b_mat.sum() > 1]\n",
    "print(\"Coins that once has been in top 10 \\n\", coins_infund)"
   ]
  },
  {
   "cell_type": "code",
   "execution_count": 27,
   "metadata": {
    "collapsed": true
   },
   "outputs": [],
   "source": [
    "# assert monthly data\n",
    "assert mcap_mat.shape[0] < 100"
   ]
  },
  {
   "cell_type": "markdown",
   "metadata": {},
   "source": [
    "# create fundret vector"
   ]
  },
  {
   "cell_type": "markdown",
   "metadata": {},
   "source": [
    "`Fundret` $ = W \\circ R$ & then sum each row. Here, W is the weight matrix and R is the return matrix. The $\\circ$ is an element-wise multiplication, aka Hadamard product.\n",
    "\n",
    "To get `Fundprice` we use $Price_t = 100 \\cdot \\exp({\\sum_t return_t})$"
   ]
  },
  {
   "cell_type": "code",
   "execution_count": 28,
   "metadata": {
    "collapsed": true
   },
   "outputs": [],
   "source": [
    "def returns_calc(price_matrix, fill_na_0=True):\n",
    "    \"\"\"\n",
    "    input price matrix. output returns matrix.\n",
    "    \"\"\"\n",
    "    # make sure the .shift direction is correct\n",
    "    returns_matrix = price_matrix / price_matrix.shift(1) - 1\n",
    "    # first day is na \n",
    "    if fill_na_0 == True:\n",
    "        returns_matrix = returns_matrix.fillna(0)    \n",
    "    # replace inf with 0 <=> buying after 1 day of existence\n",
    "    returns_matrix = returns_matrix.replace([np.inf, -np.inf], 0) \n",
    "    return returns_matrix"
   ]
  },
  {
   "cell_type": "code",
   "execution_count": 29,
   "metadata": {
    "collapsed": true
   },
   "outputs": [],
   "source": [
    "def fundret_calc(price_mat, mcap_mat, p=c):\n",
    "    \"\"\"\n",
    "    input: p, the price matrix and market cap matrix\n",
    "    output: return vector of the top p fund\n",
    "    \"\"\"\n",
    "    # create W and B matrices\n",
    "    w, b = create_wbl(mcap_mat=mcap_mat, p=p)\n",
    "    # returns matrix\n",
    "    r = returns_calc(price_mat)\n",
    "    # fund return: w * r, element-wise & then sum by row\n",
    "    wr =  w.shift(1).fillna(0).as_matrix() * r\n",
    "    fundret = wr.T.sum()\n",
    "    return fundret, w, b, r"
   ]
  },
  {
   "cell_type": "markdown",
   "metadata": {},
   "source": [
    "förut hade jag \n",
    "\n",
    "r.replace([np.inf, -np.inf], 0) # akut lösning"
   ]
  },
  {
   "cell_type": "code",
   "execution_count": 30,
   "metadata": {
    "collapsed": true
   },
   "outputs": [],
   "source": [
    "def fundmcap_calc(price_mat, mcap_mat, p):\n",
    "    fundret, w, b, r = fundret_calc(price_mat, mcap_mat, p)\n",
    "    wm = w.fillna(0).as_matrix() * mcap_mat\n",
    "    bm = b.fillna(0).as_matrix() * mcap_mat\n",
    "    return wm.T.sum(), bm.T.sum()"
   ]
  },
  {
   "cell_type": "code",
   "execution_count": 31,
   "metadata": {
    "collapsed": true
   },
   "outputs": [],
   "source": [
    "assert (price_mat.index == mcap_mat.index).all()"
   ]
  },
  {
   "cell_type": "code",
   "execution_count": 32,
   "metadata": {
    "collapsed": true
   },
   "outputs": [],
   "source": [
    "fundret, w, b, r = fundret_calc(price_mat, mcap_mat, p=c)\n",
    "fundret.name = 'Fund'\n",
    "fundprice = 100*np.exp(fundret.cumsum())\n",
    "\n",
    "fundmcap, fundmcap_binary = fundmcap_calc(price_mat, mcap_mat, p=c)"
   ]
  },
  {
   "cell_type": "code",
   "execution_count": 33,
   "metadata": {},
   "outputs": [
    {
     "data": {
      "text/plain": [
       "(<MonthEnd>, <MonthEnd>, <MonthEnd>)"
      ]
     },
     "execution_count": 33,
     "metadata": {},
     "output_type": "execute_result"
    }
   ],
   "source": [
    "# check index have correct freq \"<MonthEnd>\"\n",
    "w.index.freq, b.index.freq, r.index.freq"
   ]
  },
  {
   "cell_type": "markdown",
   "metadata": {},
   "source": [
    "we will never buy something with inf return (at zero price). i tried to handle this by shifting the weights matrix back one step, but it didnt work. "
   ]
  },
  {
   "cell_type": "code",
   "execution_count": 34,
   "metadata": {
    "collapsed": true
   },
   "outputs": [],
   "source": [
    "def indexed_price(pricevector):\n",
    "    # assume same direction \n",
    "    r = pricevector / pricevector.shift(1) - 1\n",
    "    r = r.replace([np.inf, -np.inf], 0) # this implies you buy after 1 full day of existence, i.e. 12h or 24h after ico begins\n",
    "    r = r.fillna(0)\n",
    "    return 100*np.exp(r.cumsum())"
   ]
  },
  {
   "cell_type": "code",
   "execution_count": 35,
   "metadata": {
    "collapsed": true
   },
   "outputs": [],
   "source": [
    "def indexed_return(returnvector):\n",
    "    # assume same direction \n",
    "    r = returnvector.replace([np.inf, -np.inf], 0) \n",
    "    r = r.fillna(0)\n",
    "    return 100*np.exp(r.cumsum())"
   ]
  },
  {
   "cell_type": "markdown",
   "metadata": {},
   "source": [
    "# handle bch and etc"
   ]
  },
  {
   "cell_type": "code",
   "execution_count": null,
   "metadata": {
    "collapsed": true
   },
   "outputs": [],
   "source": []
  },
  {
   "cell_type": "code",
   "execution_count": null,
   "metadata": {
    "collapsed": true
   },
   "outputs": [],
   "source": []
  },
  {
   "cell_type": "code",
   "execution_count": null,
   "metadata": {
    "collapsed": true
   },
   "outputs": [],
   "source": []
  },
  {
   "cell_type": "markdown",
   "metadata": {},
   "source": [
    "---"
   ]
  },
  {
   "cell_type": "markdown",
   "metadata": {},
   "source": [
    "# EDA\n",
    "\n",
    "0). Calculate performance of top 3, 5, 6, 7, 8, 9 and 10.\n",
    "\n",
    "Jacob did some initial calculations from my dataset and seams like top 10 is good. It’s also a “easy” sell according to me. When we decide on this to everything below : (Håkan and Jacob feel free to add to this list, according to below is what's essential for us to be able to sell this to Nasdaq, but I surely have missed some important points).\n",
    "\n",
    "1). Total market cap covered by the fund, 5 years back until today show in graph with percentage.\n",
    "\n",
    "A trend downwards shows that BTC and ETH is not sufficient to give a good market exposure - You need to buy more assets to “capture the market”.\n",
    "\n",
    "2). Number of different coins in the top 10 last 5 years.\n",
    "\n",
    "A high number shows that you need to be an active investor even if you only invest in top 10.\n",
    "\n",
    "3).  Number of coins that has been in top 10 that today is out of top 50 and top 100 last 5 years.\n",
    "\n",
    "A high number of coins going from top 10 to low ranks show that there is high risk with a buy and hold strategy in top 10 if you don’t actively manage your holding.\n",
    "\n",
    "4). Number of coins that has been in top 10 that now is “dead” last 5 years.\n",
    "\n",
    "A high number or any number show the market is highly volatile and immature.\n",
    "\n",
    "5). Number of coins that has died last 5 years.\n",
    "\n",
    "A high number show the market is highly volatile and immature and speak into the use case of getting lower volatility and active management.\n",
    "\n",
    "6). Correlations on coins (data I’ve seen shows that there is less correlation in top 15 than there is on the general stock market). Not sure about dates here.\n",
    "\n",
    "Low correlations means that you need to own several assets to capture the market and just holding one or two assets is not going to ensure good value capturing.\n",
    "\n",
    "7). Monthly return compared : Index fund, BTC and ETH (show this in graphics where you show the actual percentage return each month for) (suggestion : start 2015 until today)\n",
    "\n",
    "A higher percent of return on index fund is good for use case.\n",
    "\n",
    "8). Monthly average return compared : Index fund, BTC and ETH  (suggestion : start 2015 until today)\n",
    "\n",
    "A higher average return on index fund is good for our use case.\n",
    "\n",
    "9). Yearly return compared : Index fund, BTC and ETH  (suggestion : start 2015 until today)\n",
    "\n",
    "A higher return on index fund is good for our use case.\n",
    "\n",
    "10). Yearly average return Index fund , BTC and ETH  (suggestion : start 2015 until today)\n",
    "\n",
    "A higher average return on index fund is good for our use case.\n",
    "\n",
    "11). Volatility Index fund, BTC and ETH  (suggestion : start 2015 until today)\n",
    "\n",
    "Lower volatility on index fund is good for our use case.\n",
    "\n",
    "12). Percent of trade volume captured by the fund compared to BTC and ETH (last 5 years)\n",
    "13). Calculate difference between index fund trade volume and BTC + ETH trade volume last 3 years.\n",
    "\n",
    "The difference is potential lost revenue opportunities for Nasdaq. People are trading assets they don’t give exposure to.\n",
    "\n",
    "14). Number of in & outs in index (5 years)\n",
    "\n",
    "The higher number the better.\n",
    "\n",
    "15). Number of position changes in index (5 years)\n",
    "\n",
    "The higher number the better.\n",
    "\n",
    "14). Bonus : Potential hedge to stock, bond markets and other investments (?) Flight to safe haven. \n",
    "\n",
    "Are crypto and stocks anti-correlated? If so this is a big positive for our use case."
   ]
  },
  {
   "cell_type": "markdown",
   "metadata": {},
   "source": [
    "## define colors and alpha"
   ]
  },
  {
   "cell_type": "code",
   "execution_count": 36,
   "metadata": {
    "collapsed": true
   },
   "outputs": [],
   "source": [
    "clr_btc = 'xkcd:greyish blue'\n",
    "clr_eth = 'xkcd:slate'\n",
    "clr_oth = 'xkcd:deep sea blue'\n",
    "\n",
    "clr_fund = 'xkcd:sky blue'\n",
    "\n",
    "clr_list = [clr_btc, clr_eth, clr_oth]\n",
    "\n",
    "alpha_ = 0.80"
   ]
  },
  {
   "cell_type": "markdown",
   "metadata": {
    "collapsed": true
   },
   "source": [
    "## coins in the fund"
   ]
  },
  {
   "cell_type": "code",
   "execution_count": 37,
   "metadata": {},
   "outputs": [
    {
     "ename": "NameError",
     "evalue": "name 'p' is not defined",
     "output_type": "error",
     "traceback": [
      "\u001b[0;31m---------------------------------------------------------------------------\u001b[0m",
      "\u001b[0;31mNameError\u001b[0m                                 Traceback (most recent call last)",
      "\u001b[0;32m<ipython-input-37-b6bf2ee3d93a>\u001b[0m in \u001b[0;36m<module>\u001b[0;34m()\u001b[0m\n\u001b[0;32m----> 1\u001b[0;31m print(\"A top\", p, \"cryptofund has\", len(coins_infund),\n\u001b[0m\u001b[1;32m      2\u001b[0m       \"different coins in it -  with monthly rebalancing\")\n",
      "\u001b[0;31mNameError\u001b[0m: name 'p' is not defined"
     ]
    }
   ],
   "source": [
    "print(\"A top\", p, \"cryptofund has\", len(coins_infund),\n",
    "      \"different coins in it -  with monthly rebalancing\")"
   ]
  },
  {
   "cell_type": "code",
   "execution_count": null,
   "metadata": {},
   "outputs": [],
   "source": [
    "coins_infund"
   ]
  },
  {
   "cell_type": "code",
   "execution_count": null,
   "metadata": {},
   "outputs": [],
   "source": [
    "coins_top10 = mcap_mat.iloc[-2].sort_values(ascending=False).head(10).index.tolist()\n",
    "coins_top10"
   ]
  },
  {
   "cell_type": "code",
   "execution_count": null,
   "metadata": {
    "collapsed": true
   },
   "outputs": [],
   "source": [
    "coins_comp = ['Bitcoin', 'Ethereum', 'Litecoin', 'Ripple']"
   ]
  },
  {
   "cell_type": "markdown",
   "metadata": {},
   "source": [
    "## prices: fund vs coins"
   ]
  },
  {
   "cell_type": "code",
   "execution_count": null,
   "metadata": {},
   "outputs": [],
   "source": [
    "# first date where nr of coins are c\n",
    "b[b.T.sum()==c].index.min()"
   ]
  },
  {
   "cell_type": "code",
   "execution_count": null,
   "metadata": {
    "collapsed": true
   },
   "outputs": [],
   "source": [
    "def fund_vs_coins(date, coins, logy=True):\n",
    "    \"\"\"\n",
    "    Input date and list of coins.\n",
    "    Oututs a plot\n",
    "    \"\"\"\n",
    "    iprice_fund = 100*np.exp(fundret.loc[date:].cumsum()).shift(1).fillna(1) # tmp fix. todo make it nicer\n",
    "    # iprice_fund = indexed_return(fundret.loc[date:]) # previous but didnt start@100\n",
    "    \n",
    "    iprice_coins = indexed_price(price_mat.loc[date:, coins])\n",
    "    \n",
    "    fund_and_coins = pd.concat([iprice_fund, iprice_coins], axis=1)\n",
    "    \n",
    "    return fund_and_coins.plot(logy=logy)"
   ]
  },
  {
   "cell_type": "code",
   "execution_count": null,
   "metadata": {},
   "outputs": [],
   "source": [
    "date = '2017-03'\n",
    "\n",
    "fund_vs_coins(date, ['Bitcoin', 'Ethereum'])\n",
    "\n",
    "plt.title('$100 investment a year ago')\n",
    "plt.ylabel('Indexed price \\n(start at $100)')\n",
    "plt.show()"
   ]
  },
  {
   "cell_type": "code",
   "execution_count": null,
   "metadata": {},
   "outputs": [],
   "source": [
    "date = '2017-03'\n",
    "iprice_fund = 100*np.exp(fundret.loc[date:].cumsum()).shift(1).fillna(1) # tmp fix. todo make it nicer\n",
    "# iprice_fund = indexed_return(fundret.loc[date:]) # previous but didnt start@100\n",
    "iprice_coins = indexed_price(price_mat.loc[date:, \n",
    "                                           ['Bitcoin', 'Ethereum']])\n",
    "fund_and_coins = pd.concat([iprice_fund, iprice_coins], axis=1)\n",
    "fund_and_coins.plot(logy=True, \n",
    "                    color = [clr_fund, clr_btc, clr_eth],\n",
    "                   linewidth = 3)\n",
    "\n",
    "plt.title('$100 investment a year ago')\n",
    "plt.ylabel('Indexed price \\n(start at $100)')\n",
    "plt.savefig('output/price-fund_vs_coins_largesize.png', dpi=750)\n",
    "plt.savefig('output/price-fund_vs_coins_smallsize.png')\n",
    "\n",
    "plt.show()"
   ]
  },
  {
   "cell_type": "code",
   "execution_count": null,
   "metadata": {},
   "outputs": [],
   "source": [
    "100*np.exp(fundret.loc['2017-03':].cumsum())"
   ]
  },
  {
   "cell_type": "code",
   "execution_count": null,
   "metadata": {},
   "outputs": [],
   "source": [
    "100*np.exp(fundret.loc[date:].cumsum())"
   ]
  },
  {
   "cell_type": "code",
   "execution_count": null,
   "metadata": {},
   "outputs": [],
   "source": [
    "indexed_return(fundret.loc['2017-03':])"
   ]
  },
  {
   "cell_type": "code",
   "execution_count": null,
   "metadata": {},
   "outputs": [],
   "source": [
    "fundret.loc['2017-04':].cumsum()"
   ]
  },
  {
   "cell_type": "code",
   "execution_count": null,
   "metadata": {},
   "outputs": [],
   "source": [
    "indexed_price(price_mat.loc['2017-03':, 'Bitcoin'])"
   ]
  },
  {
   "cell_type": "code",
   "execution_count": null,
   "metadata": {
    "collapsed": true
   },
   "outputs": [],
   "source": [
    "plt.show()"
   ]
  },
  {
   "cell_type": "code",
   "execution_count": null,
   "metadata": {},
   "outputs": [],
   "source": [
    "indexed_return(fundret['2017-04':]).head()"
   ]
  },
  {
   "cell_type": "code",
   "execution_count": null,
   "metadata": {},
   "outputs": [],
   "source": [
    "assert b.T.sum().median() == c\n",
    "# check it looks ok\n",
    "#b.T.sum().plot()\n",
    "#plt.xlabel('Nr of coins in the fund')\n",
    "#plt.show()"
   ]
  },
  {
   "cell_type": "markdown",
   "metadata": {},
   "source": [
    "## Summary statistics\n",
    "\n",
    "Return, Vol, Return/Vol, etc."
   ]
  },
  {
   "cell_type": "code",
   "execution_count": null,
   "metadata": {},
   "outputs": [],
   "source": [
    "fundmean = fundret.mean()*12\n",
    "fundvol = fundret.std()*np.sqrt(12)\n",
    "fundmean / fundvol"
   ]
  },
  {
   "cell_type": "code",
   "execution_count": null,
   "metadata": {},
   "outputs": [],
   "source": [
    "print(\"Annualized mean:\", fundmean*100, \"%\", \n",
    "      \"Annualized vol:\", fundvol*100, \"%\", \n",
    "     \"(Based on monthly data.)\")"
   ]
  },
  {
   "cell_type": "code",
   "execution_count": null,
   "metadata": {},
   "outputs": [],
   "source": [
    "# day with max return \n",
    "fundret.idxmax(), fundret[fundret.idxmax()]"
   ]
  },
  {
   "cell_type": "code",
   "execution_count": null,
   "metadata": {
    "collapsed": true
   },
   "outputs": [],
   "source": [
    "rr = pd.concat([fundret, r[coins_top10]], axis=1)"
   ]
  },
  {
   "cell_type": "code",
   "execution_count": null,
   "metadata": {
    "collapsed": true
   },
   "outputs": [],
   "source": [
    "if True == 0:\n",
    "    rr_tmp = rr.replace(0, np.nan).apply([np.mean, np.std])\n",
    "    rr_tmp.T.plot.barh()\n",
    "    plt.xlabel('Monthly return (not annualized)')\n",
    "    plt.show()\n",
    "    #todo: annualize it"
   ]
  },
  {
   "cell_type": "code",
   "execution_count": null,
   "metadata": {
    "collapsed": true
   },
   "outputs": [],
   "source": [
    "rr.to_csv('output/ret_annualized_forcalendarfig.csv')"
   ]
  },
  {
   "cell_type": "code",
   "execution_count": null,
   "metadata": {
    "collapsed": true
   },
   "outputs": [],
   "source": [
    "# calc mean*12 and std*sqrt(12) since freq is monthly\n",
    "def returns_vol_tbl(start, assets, end='2018-04', retmat=rr, T=12):\n",
    "    \"\"\"start with rr since it contains fund and coins returns.\n",
    "    T=12 for monthly data and T=365 for daily data.\n",
    "    output returnstable for a certain period.\n",
    "    \"\"\"\n",
    "    # calc mean and vol\n",
    "    returnstable = rr.loc[start:end, assets].apply([np.mean, np.std])\n",
    "    # sqrt T rule\n",
    "    returnstable = returnstable.multiply([T, np.sqrt(T)], axis=0)\n",
    "    # rename\n",
    "    returnstable.index = ['Mean return', 'Historical vol']\n",
    "    # add sharpe\n",
    "    rett = returnstable.T\n",
    "    rett['Return / Vol'] = rett['Mean return'] / rett['Historical vol']\n",
    "    returnstable = rett.T\n",
    "    # round\n",
    "    returnstable = returnstable.round(2)\n",
    "    # rename\n",
    "    return returnstable"
   ]
  },
  {
   "cell_type": "code",
   "execution_count": null,
   "metadata": {
    "collapsed": true
   },
   "outputs": [],
   "source": [
    "assets_ = ['Fund', 'Bitcoin', 'Ethereum']"
   ]
  },
  {
   "cell_type": "code",
   "execution_count": null,
   "metadata": {},
   "outputs": [],
   "source": [
    "print(returns_vol_tbl(start='2017', assets=assets_))"
   ]
  },
  {
   "cell_type": "code",
   "execution_count": null,
   "metadata": {},
   "outputs": [],
   "source": [
    "# compare sharpe ratios amon different years\n",
    "startlist = ['2015', '2016', '2017', '2016-04', '2017-04']\n",
    "for s in startlist:\n",
    "    # print(\"\\n start @\", s)\n",
    "    #print(returns_vol_tbl(start=s, assets=assets_))\n",
    "    returns_vol_tbl(start=s, assets=assets_).plot.barh()\n",
    "    plt.title(\"start @\" + s)\n",
    "    plt.show()"
   ]
  },
  {
   "cell_type": "code",
   "execution_count": null,
   "metadata": {
    "collapsed": true
   },
   "outputs": [],
   "source": [
    "def sharpe(returnseries):\n",
    "    # with risk free = 0\n",
    "    # which does not matter since we compare among coins and their rf is arguably the same, although unknown\n",
    "    mean = 12*np.mean(returnseries)\n",
    "    vol = np.sqrt(12)*np.std(returnseries)\n",
    "    return np.round(mean/vol, 3)"
   ]
  },
  {
   "cell_type": "code",
   "execution_count": null,
   "metadata": {},
   "outputs": [],
   "source": [
    "sharpelist = []\n",
    "for coin in coins_top10:\n",
    "    print(coin, sharpe(r[coin]))\n",
    "    #sharpelist.append((coin, sharpe(r[coin])))\n",
    "sharpe(rr.Fund)"
   ]
  },
  {
   "cell_type": "markdown",
   "metadata": {},
   "source": [
    "## Returns"
   ]
  },
  {
   "cell_type": "code",
   "execution_count": null,
   "metadata": {},
   "outputs": [],
   "source": [
    "fundret.plot()\n",
    "plt.title('Fund')\n",
    "plt.ylabel('Monthly return \\n not annualized')\n",
    "plt.show()"
   ]
  },
  {
   "cell_type": "code",
   "execution_count": null,
   "metadata": {},
   "outputs": [],
   "source": [
    "fundret_annualized = 12*fundret\n",
    "fundret_annualized.loc['2015':].plot()\n",
    "plt.title('Fund')\n",
    "plt.ylabel('Monthly return \\n annualized')\n",
    "plt.axhline(y=fundret_annualized.mean(), ls='--')\n",
    "plt.show()"
   ]
  },
  {
   "cell_type": "code",
   "execution_count": null,
   "metadata": {
    "collapsed": true
   },
   "outputs": [],
   "source": [
    "fundret_annualized.to_csv('output/fundret_annualized.csv')"
   ]
  },
  {
   "cell_type": "markdown",
   "metadata": {},
   "source": [
    "## Which coins are included?"
   ]
  },
  {
   "cell_type": "code",
   "execution_count": null,
   "metadata": {},
   "outputs": [],
   "source": [
    "coins_thisplot = ['Monero'] + coins_top10 # incl monero so BTC is orange in fig\n",
    "w[coins_thisplot].plot(kind='area', legend=True)\n",
    "plt.title('Fund weights for different coins \\n mostly BTC before 2017')\n",
    "plt.ylabel('Weight')\n",
    "plt.show()"
   ]
  },
  {
   "cell_type": "code",
   "execution_count": null,
   "metadata": {},
   "outputs": [],
   "source": [
    "# current top c\n",
    "mcap_mat.iloc[-2,:].sort_values(ascending=True).tail(c).plot.barh()\n",
    "plt.title('Top ' + str(c) + ' today')\n",
    "plt.xlabel('Marketcap')\n",
    "plt.show()"
   ]
  },
  {
   "cell_type": "code",
   "execution_count": null,
   "metadata": {
    "collapsed": true
   },
   "outputs": [],
   "source": [
    "# top k on a certain date\n",
    "date = '2014-03'\n",
    "#mcap_mat.loc[date,:].sort_values(ascending=True).tail(k).plot.barh()\n",
    "#plt.title('Top ' + str(k) + ' on ' + date)\n",
    "#plt.xlabel('Marketcap')\n",
    "#plt.show()\n",
    "# todo: fix this later."
   ]
  },
  {
   "cell_type": "markdown",
   "metadata": {},
   "source": [
    "## Correlations"
   ]
  },
  {
   "cell_type": "code",
   "execution_count": null,
   "metadata": {
    "collapsed": true
   },
   "outputs": [],
   "source": [
    "def corrplot(corr, annot=False):\n",
    "    # Generate a mask for the upper triangle\n",
    "    mask = np.zeros_like(corr, dtype=np.bool)\n",
    "    mask[np.triu_indices_from(mask)] = True\n",
    "\n",
    "    # Set up the matplotlib figure\n",
    "    f, ax = plt.subplots(figsize=(11, 9))\n",
    "\n",
    "    # Generate a custom diverging colormap\n",
    "    cmap = sns.diverging_palette(220, 10, as_cmap=True)\n",
    "\n",
    "    # Draw the heatmap with the mask and correct aspect ratio\n",
    "\n",
    "    return sns.heatmap(corr, mask=mask, annot=annot, cmap=cmap, vmax=.3, center=0,\n",
    "                square=True, linewidths=.5, cbar_kws={\"shrink\": .5})"
   ]
  },
  {
   "cell_type": "code",
   "execution_count": null,
   "metadata": {
    "collapsed": true
   },
   "outputs": [],
   "source": [
    "# last 3y\n",
    "start_date = '2015-04'\n",
    "end_date = '2018-04'"
   ]
  },
  {
   "cell_type": "markdown",
   "metadata": {},
   "source": [
    "## coins in fund (monthly data)"
   ]
  },
  {
   "cell_type": "code",
   "execution_count": null,
   "metadata": {},
   "outputs": [],
   "source": [
    "len(coins_infund)"
   ]
  },
  {
   "cell_type": "code",
   "execution_count": null,
   "metadata": {},
   "outputs": [],
   "source": [
    "# todo compute rolling corr matrix and plot\n",
    "corrplot(corr=r[coins_infund].loc[start_date:end_date].corr())\n",
    "plt.title('Correlation matrix - monthly data \\n from ' + start_date + ' to ' + end_date)\n",
    "plt.show()"
   ]
  },
  {
   "cell_type": "markdown",
   "metadata": {},
   "source": [
    "## top 10 (monthly data)"
   ]
  },
  {
   "cell_type": "code",
   "execution_count": null,
   "metadata": {},
   "outputs": [],
   "source": [
    "rr.tail(3)"
   ]
  },
  {
   "cell_type": "code",
   "execution_count": null,
   "metadata": {},
   "outputs": [],
   "source": [
    "corrplot(rr.loc[start_date:end_date].corr(), annot=True)\n",
    "plt.title('Correlation matrix - monthly data \\n from ' + start_date + ' to ' + end_date)\n",
    "plt.show()"
   ]
  },
  {
   "cell_type": "markdown",
   "metadata": {},
   "source": [
    "When I changed the `start_date` and `end_date` the correlation matrix did not change a lot. Some changes I did to \n",
    "these dates was to \n",
    "\n",
    "* have a have start and end within 1y of each other (aka a 1y window length)\n",
    "* keep the 3y window length but move back in time, e.g. 2014 to 2017."
   ]
  },
  {
   "cell_type": "code",
   "execution_count": null,
   "metadata": {},
   "outputs": [],
   "source": [
    "corrplot(rr.loc[start_date:].corr().round(1), annot=True)\n",
    "plt.title('Correlation matrix - monthly data \\n from ' + start_date + ' to ' + end_date)\n",
    "plt.savefig('output/corr-fund_top10-monthly_largesize.png', dpi=750)\n",
    "plt.savefig('output/corr-fund_top10-monthly_smallsize.png')\n",
    "plt.show()"
   ]
  },
  {
   "cell_type": "markdown",
   "metadata": {},
   "source": [
    "There are statistical problems with using monthly data and 1y window, because then only 12 months are used to estimate the correlation - this sample can be considered small.\n",
    "\n",
    "## Top 10 coins (daily data)"
   ]
  },
  {
   "cell_type": "code",
   "execution_count": null,
   "metadata": {},
   "outputs": [],
   "source": [
    "r_top10_mat = returns_calc(daily_price_mat[coins_top10])\n",
    "corr_top10daily = r_top10_mat.loc[start_date:end_date].corr()\n",
    "corrplot(corr_top10daily, annot=True)\n",
    "plt.title('Correlation matrix - daily data \\n from ' + start_date + ' to ' + end_date)\n",
    "plt.show()"
   ]
  },
  {
   "cell_type": "markdown",
   "metadata": {},
   "source": [
    "Note that the correlations are closer to zero with daily data than with monthly data. "
   ]
  },
  {
   "cell_type": "markdown",
   "metadata": {},
   "source": [
    "## Correlations over time\n",
    "\n",
    "How do correlations change over time? For most financial assets they vary a lot over time."
   ]
  },
  {
   "cell_type": "code",
   "execution_count": null,
   "metadata": {},
   "outputs": [],
   "source": [
    "# rolling corr with fundret and all top10 coins\n",
    "fund_and_coins = pd.concat([rr.iloc[:,0], #fund returns\n",
    "                            rr.iloc[:,2:]], #all coins except btc\n",
    "                           axis=1)\n",
    "bitcoin_returns = rr.iloc[:,1]\n",
    "rollcorr = pd.rolling_corr(bitcoin_returns, fund_and_coins, window=12)\n",
    "rollcorr_old = pd.rolling_corr(rr.iloc[:,0], rr.iloc[:,1:], window=12) #when comparing fund vs coins\n",
    "rollcorr.to_csv('output/rollcorr.csv', na_rep='NaN')\n",
    "rollcorr.plot()\n",
    "plt.ylabel('Correlation vs Bitcoin')\n",
    "plt.title('Rolling 1y correlation \\n All vs Bitcoin')\n",
    "plt.axhline(y=0, color='k', ls='-')\n",
    "plt.show()"
   ]
  },
  {
   "cell_type": "code",
   "execution_count": null,
   "metadata": {},
   "outputs": [],
   "source": [
    "rollcorr_old[coins_comp].plot()\n",
    "plt.ylabel('Correlation')\n",
    "plt.title('Rolling 12 month correlation \\n coins vs Fund')\n",
    "plt.ylabel('Correlation vs Fund')\n",
    "plt.axhline(y=0, color='k', ls='-')\n",
    "plt.show()"
   ]
  },
  {
   "cell_type": "markdown",
   "metadata": {},
   "source": [
    "Now we turn to daily data. For this set we do not have a fund. So here we calculate all correlations vs bitcoin. It will be a bit hard to compare monthly vs daily, since one with fund vs coins and another in bitcoin vs fund, but it's ok. (An alternative is to for monthly compare bitcoin vs fund&coins and for daily compare bitcoin & coins, but I think that's not as good)."
   ]
  },
  {
   "cell_type": "code",
   "execution_count": null,
   "metadata": {},
   "outputs": [],
   "source": [
    "rollcorr_daily = pd.rolling_corr(r_top10_mat.iloc[:,0], r_top10_mat.iloc[:,1:], window=250)\n",
    "print(\"Monthly vs daily, in size: \", rollcorr.shape, rollcorr_daily.shape)"
   ]
  },
  {
   "cell_type": "code",
   "execution_count": null,
   "metadata": {},
   "outputs": [],
   "source": [
    "rollcorr_daily.plot()\n",
    "plt.show()"
   ]
  },
  {
   "cell_type": "code",
   "execution_count": null,
   "metadata": {},
   "outputs": [],
   "source": [
    "rollcorr_daily[['Ethereum', 'Ripple', 'Bitcoin Cash', 'Litecoin']].plot()\n",
    "plt.show()"
   ]
  },
  {
   "cell_type": "markdown",
   "metadata": {},
   "source": [
    "## correlation: crypto vs traditional finance"
   ]
  },
  {
   "cell_type": "code",
   "execution_count": null,
   "metadata": {
    "collapsed": true
   },
   "outputs": [],
   "source": [
    "fin_p = pd.read_excel('../../datasets/crypto-index-fund/data-financial/price_tradfinance.xlsx', \n",
    "                      index_col=0, parse_dates=True)"
   ]
  },
  {
   "cell_type": "code",
   "execution_count": null,
   "metadata": {},
   "outputs": [],
   "source": [
    "# index has freq None\n",
    "fin_p.index"
   ]
  },
  {
   "cell_type": "code",
   "execution_count": null,
   "metadata": {
    "collapsed": true
   },
   "outputs": [],
   "source": [
    "fin_p.columns = ['SP500', 'OMXS30', 'EURSTOXX', 'Gold']"
   ]
  },
  {
   "cell_type": "code",
   "execution_count": null,
   "metadata": {
    "collapsed": true
   },
   "outputs": [],
   "source": [
    "# drop rows if any col has NA\n",
    "fin_p.dropna(inplace=True)"
   ]
  },
  {
   "cell_type": "code",
   "execution_count": null,
   "metadata": {
    "collapsed": true
   },
   "outputs": [],
   "source": [
    "fin_r = returns_calc(fin_p)"
   ]
  },
  {
   "cell_type": "code",
   "execution_count": null,
   "metadata": {},
   "outputs": [],
   "source": [
    "fin_r.isnull().sum()"
   ]
  },
  {
   "cell_type": "code",
   "execution_count": null,
   "metadata": {},
   "outputs": [],
   "source": [
    "# reindex to inlcude all claendar days, using forward fill\n",
    "#fin_r = fin_r.reindex(r_top10_mat.index, method='ffill')\n",
    "fin_r = fin_r.reindex(df.resample('D').index, method='ffill') #df.resample('D').index\n",
    "assert (fin_r.index == r_top10_mat.index).all()"
   ]
  },
  {
   "cell_type": "code",
   "execution_count": null,
   "metadata": {},
   "outputs": [],
   "source": [
    "fin_r.index"
   ]
  },
  {
   "cell_type": "code",
   "execution_count": null,
   "metadata": {
    "collapsed": true
   },
   "outputs": [],
   "source": [
    "# create monthly data\n",
    "#fin_r_monthly = fin_r.loc[fin_r.index.day == 10]\n",
    "fin_r_monthly = fin_r.resample('M').asfreq()"
   ]
  },
  {
   "cell_type": "code",
   "execution_count": null,
   "metadata": {
    "collapsed": true
   },
   "outputs": [],
   "source": [
    "# drop last row\n",
    "fin_r_monthly = fin_r_monthly.iloc[:-1]"
   ]
  },
  {
   "cell_type": "code",
   "execution_count": null,
   "metadata": {},
   "outputs": [],
   "source": [
    "fin_r_monthly.shape"
   ]
  },
  {
   "cell_type": "markdown",
   "metadata": {},
   "source": [
    "### traditional - daily , 3y"
   ]
  },
  {
   "cell_type": "code",
   "execution_count": null,
   "metadata": {},
   "outputs": [],
   "source": [
    "corrplot(fin_r.loc[start_date:end_date].corr(), annot=True)\n",
    "plt.title('Correlation matrix - daily data \\n from ' + start_date + ' to ' + end_date)\n",
    "plt.show()"
   ]
  },
  {
   "cell_type": "markdown",
   "metadata": {},
   "source": [
    "### traditional - monthly, 3y"
   ]
  },
  {
   "cell_type": "code",
   "execution_count": null,
   "metadata": {},
   "outputs": [],
   "source": [
    "corrplot(fin_r_monthly.loc[start_date:end_date].corr(), annot=True)\n",
    "plt.title('Correlation matrix - monthly data \\n from ' + start_date + ' to ' + end_date)\n",
    "plt.show()"
   ]
  },
  {
   "cell_type": "markdown",
   "metadata": {},
   "source": [
    "### traditional vs crypto, monthly"
   ]
  },
  {
   "cell_type": "code",
   "execution_count": null,
   "metadata": {
    "collapsed": true
   },
   "outputs": [],
   "source": [
    "# Will not use `r_top10_mat` because it has .fillna(0) and that does not suit our needs here. \n",
    "r_top10_mat_na = returns_calc(price_mat[coins_top10], fill_na_0=False)\n",
    "\n",
    "# concat the above with return for financial assets: both have monthly data\n",
    "fin_coins_r = pd.concat([fin_r_monthly.loc[start_date:end_date], #financial assets\n",
    "           r_top10_mat_na.loc[start_date:end_date], # top 10 crypto assets\n",
    "                         fundret[start_date:end_date] # fund return\n",
    "                        ], axis=1, join='inner')"
   ]
  },
  {
   "cell_type": "code",
   "execution_count": null,
   "metadata": {},
   "outputs": [],
   "source": [
    "fin_coins_r.shape, fin_r_monthly.index.min(), r_top10_mat_na.index.min(), fundret.index.min()"
   ]
  },
  {
   "cell_type": "code",
   "execution_count": null,
   "metadata": {},
   "outputs": [],
   "source": [
    "# monthly data\n",
    "#assert (fin_coins_r.index == fin_r_monthly[start_date:end_date].index).all()\n",
    "fin_coins_r.shape"
   ]
  },
  {
   "cell_type": "code",
   "execution_count": null,
   "metadata": {
    "collapsed": true
   },
   "outputs": [],
   "source": [
    "################################ todo incorrect shape now all of a sudden"
   ]
  },
  {
   "cell_type": "code",
   "execution_count": null,
   "metadata": {},
   "outputs": [],
   "source": [
    "print(len(fin_coins_r), \" months\")"
   ]
  },
  {
   "cell_type": "code",
   "execution_count": null,
   "metadata": {},
   "outputs": [],
   "source": [
    "# there are NAs\n",
    "fin_coins_r.isnull().sum()"
   ]
  },
  {
   "cell_type": "markdown",
   "metadata": {},
   "source": [
    "There are NAs. Those will be pairwise ignored. Todo: make sure by reading the docs again that this is how it is handled. You could also make a corrplot with dropped NAs."
   ]
  },
  {
   "cell_type": "code",
   "execution_count": null,
   "metadata": {
    "collapsed": true
   },
   "outputs": [],
   "source": [
    "corrplot(fin_coins_r.corr().round(1), annot=True)\n",
    "plt.title('Correlation matrix - monthly data \\n from ' + start_date + ' to ' + end_date)\n",
    "plt.savefig('output/corr-trad_coins_fund-monthly_largesize.png', dpi=750)\n",
    "plt.savefig('output/corr-trad_coins_fund-monthly_smallsize.png')\n",
    "\n",
    "corrplot(fin_coins_r.corr(), annot=False)\n",
    "plt.title('Correlation matrix - monthly data \\n from ' + start_date + ' to ' + end_date)\n",
    "plt.savefig('output/corr-trad_coins_fund-monthly-annotFalse_largesize.png', dpi=750)\n",
    "plt.savefig('output/corr-trad_coins_fund-monthly-annotFalse_smallsize.png')"
   ]
  },
  {
   "cell_type": "code",
   "execution_count": null,
   "metadata": {},
   "outputs": [],
   "source": [
    "plt.show()"
   ]
  },
  {
   "cell_type": "markdown",
   "metadata": {},
   "source": [
    "1. To compare coins vs coins, look in the lower right corner\n",
    "2. To copmare traditional vs traditionl, look in the top left corner\n",
    "3. to compare coins vs traditional, look in the left bottom corner\n",
    "\n",
    "Take aways:\n",
    "\n",
    "- traditional financial assets are _positively_ correlated with each other\n",
    "- traditional financial assets are _negatively_ correlated with cryptocurrencies\n",
    "- Bitcoin is positively correlated with all coins, and negatively correlated with traditional assets. \n",
    "- Ripple is uncorrelated with traditional financial assets & bitcoin, but positively correlated with all other coins\n",
    "- Most coins are positevely correlated with each other (e.g bitcoin cash and litecoin) and some coins are negategly uncorrelated with each other (e.g. Ripple and bitcoin, monero and NEO)\n",
    "- Any correlation below 1 leads to diversification. Close to zero is good, and negative is even better. Here, the correlations are between +.30 and -.45 which is pretty close to zero.\n"
   ]
  },
  {
   "cell_type": "markdown",
   "metadata": {},
   "source": [
    "todo: make a for loop and print as files, then look at them superfast => nice movie."
   ]
  },
  {
   "cell_type": "markdown",
   "metadata": {},
   "source": [
    "### traditional vs crypto, rolling"
   ]
  },
  {
   "cell_type": "code",
   "execution_count": null,
   "metadata": {
    "scrolled": true
   },
   "outputs": [],
   "source": [
    "selection = ['SP500', 'Gold', 'Fund', 'Ethereum']\n",
    "pd.rolling_corr(fin_coins_r[selection], window=12).to_csv('output/rollcorr_tradvscoins.csv', na_rep='NaN')"
   ]
  },
  {
   "cell_type": "code",
   "execution_count": null,
   "metadata": {},
   "outputs": [],
   "source": [
    "selection2 = ['SP500', 'Gold', 'Ethereum', 'Ripple']\n",
    "pd.rolling_corr(fin_coins_r['Fund'], fin_coins_r[selection2], window=12).plot()\n",
    "plt.title('Rolling 1y correlation vs Fund \\n Monthly data')\n",
    "plt.ylabel('Correlation vs Fund')\n",
    "plt.axhline(y=0, color='k', ls='-')\n",
    "plt.show()"
   ]
  },
  {
   "cell_type": "markdown",
   "metadata": {},
   "source": [
    "Correlations are not stable over time, just like it usually is. It is important that they don't all go to 1 in some periods. Thus the output is good news."
   ]
  },
  {
   "cell_type": "markdown",
   "metadata": {},
   "source": [
    "## market cap covered by the fund\n",
    "\n",
    "see the function for how `fundmcap` was created"
   ]
  },
  {
   "cell_type": "code",
   "execution_count": null,
   "metadata": {
    "collapsed": true
   },
   "outputs": [],
   "source": [
    "# market cap of fund using W matrix\n",
    "totmcap = mcap_mat.T.sum()\n",
    "fund_fraq_mcap = fundmcap / totmcap"
   ]
  },
  {
   "cell_type": "code",
   "execution_count": null,
   "metadata": {},
   "outputs": [],
   "source": [
    "# market cap of fund using B matrix\n",
    "fund_mcap_fraq_binary = fundmcap_binary / totmcap\n",
    "fund_mcap_fraq_binary.name = 'Fund'\n",
    "fund_mcap_fraq_binary.plot()\n",
    "plt.ylabel('Fraction of the total market cap')\n",
    "plt.title('Market cap covered by the fund')\n",
    "plt.show()"
   ]
  },
  {
   "cell_type": "code",
   "execution_count": null,
   "metadata": {
    "collapsed": true
   },
   "outputs": [],
   "source": [
    "btc_mcap_fraq = mcap_mat['Bitcoin'] / totmcap\n",
    "eth_mcap_fraq = mcap_mat['Ethereum'] / totmcap"
   ]
  },
  {
   "cell_type": "code",
   "execution_count": null,
   "metadata": {},
   "outputs": [],
   "source": [
    "clr_list"
   ]
  },
  {
   "cell_type": "code",
   "execution_count": null,
   "metadata": {},
   "outputs": [],
   "source": [
    "fraq_mcap_1 = pd.concat([btc_mcap_fraq, eth_mcap_fraq, \n",
    "                         1-(btc_mcap_fraq+eth_mcap_fraq)], \n",
    "                        axis=1)\n",
    "fraq_mcap_1.columns = ['Bitcoin', 'Ethereum', 'Others']\n",
    "fraq_mcap_1['2014':'2018-02'].plot.area(color=clr_list, \n",
    "                                        alpha=alpha_)\n",
    "fund_mcap_fraq_binary['2014':'2018-02'].plot(color=clr_fund, linewidth=3)\n",
    "plt.legend(['Bitcoin', 'Ethereum', 'Others', 'Fund'])\n",
    "plt.ylabel('Fraction of total market cap')\n",
    "plt.title('Market cap covered by the fund \\n exceeds Bitcoin and Ethereum')\n",
    "plt.savefig('output/mcap_fraq_largesize.png', dpi=750)\n",
    "plt.savefig('output/mcap_fraq_smallsize.png')\n",
    "plt.show()"
   ]
  },
  {
   "cell_type": "code",
   "execution_count": null,
   "metadata": {
    "collapsed": true
   },
   "outputs": [],
   "source": [
    "import datetime as dt"
   ]
  },
  {
   "cell_type": "code",
   "execution_count": null,
   "metadata": {
    "scrolled": true
   },
   "outputs": [],
   "source": [
    "# plot\n",
    "fraq_mcap_1['2014':'2018-02'].plot.area(color=clr_list, \n",
    "                                        alpha=alpha_, \n",
    "                                        legend=False)\n",
    "fund_mcap_fraq_binary['2014':'2018-02'].plot(color=clr_fund, linewidth=3)\n",
    "\n",
    "# labels\n",
    "plt.ylabel('Fraction of total market cap')\n",
    "plt.title('Market cap covered by the fund \\n exceeds Bitcoin and Ethereum')\n",
    "\n",
    "# annotate text\n",
    "xpos = [\n",
    "    dt.datetime(2017, 6, 1),\n",
    "    dt.datetime(2017, 6, 1),\n",
    "    dt.datetime(2017, 6, 1),\n",
    "    dt.datetime(2018, 2, 1)]\n",
    "plt.annotate('BTC', xy=(xpos[0], 0.33))\n",
    "plt.annotate('ETH', xy=(xpos[1], 0.6))\n",
    "plt.annotate('Other', xy=(xpos[2], 0.78))\n",
    "plt.annotate('Fund', xy=(xpos[3], 0.82))\n",
    "\n",
    "# save & show\n",
    "plt.savefig('output/mcap_fraq_annot_largesize.png', dpi=750)\n",
    "plt.show()"
   ]
  },
  {
   "cell_type": "code",
   "execution_count": null,
   "metadata": {},
   "outputs": [],
   "source": [
    "# todo plot them toghether but using an area plot\n",
    "\n",
    "plt.subplot(1,2,1)\n",
    "plt.plot(fund_mcap_fraq_binary)\n",
    "plt.ylabel('Fraction of the total market cap')\n",
    "plt.title('Market cap covered by the fund')\n",
    "\n",
    "plt.subplot(1,2,2)\n",
    "plt.plot(fraq_mcap_1)\n",
    "plt.ylabel('Fraction of total market cap')\n",
    "plt.title('Market cap covered by the fund \\n exceeds Bitcoin and Ethereum')\n",
    "\n",
    "plt.tight_layout()\n",
    "plt.show()"
   ]
  },
  {
   "cell_type": "markdown",
   "metadata": {},
   "source": [
    "## market cap for top 5 coins over time\n",
    "\n",
    "it is not sufficient to hold only btc and eth to capture the market"
   ]
  },
  {
   "cell_type": "code",
   "execution_count": null,
   "metadata": {},
   "outputs": [],
   "source": [
    "mcap_mat.loc['2014':'2018-02', coins_comp].plot(logy=True, color=['darkorange', 'g', 'grey', 'r'])\n",
    "plt.ylabel('Market cap in $')\n",
    "plt.show()"
   ]
  },
  {
   "cell_type": "markdown",
   "metadata": {},
   "source": [
    "## 3).  Number of coins that has been in top 10 that today is out of top 50 and top 100 last 5 years"
   ]
  },
  {
   "cell_type": "code",
   "execution_count": null,
   "metadata": {
    "collapsed": true
   },
   "outputs": [],
   "source": [
    "# last day is -2\n",
    "coins_mcap_today = mcap_mat.iloc[-2]\n",
    "coins_mcap_today = coins_mcap_today.sort_values(ascending=False)"
   ]
  },
  {
   "cell_type": "code",
   "execution_count": null,
   "metadata": {},
   "outputs": [],
   "source": [
    "# coins that are out of top 50 today\n",
    "coins_mcap_today[50:].index"
   ]
  },
  {
   "cell_type": "code",
   "execution_count": null,
   "metadata": {},
   "outputs": [],
   "source": [
    "# coins that has once been in the fund\n",
    "len(coins_infund)"
   ]
  },
  {
   "cell_type": "code",
   "execution_count": null,
   "metadata": {},
   "outputs": [],
   "source": [
    "intersection = set(coins_mcap_today[50:].index) & set(coins_infund)\n",
    "len(intersection)"
   ]
  },
  {
   "cell_type": "code",
   "execution_count": null,
   "metadata": {},
   "outputs": [],
   "source": [
    "print(len(coins_infund), \"different coins has been in top 10. Out of these,\",\n",
    "      len(intersection),\"are now outside top 50.\" )"
   ]
  },
  {
   "cell_type": "markdown",
   "metadata": {},
   "source": [
    "todo: fix this something went wrong."
   ]
  },
  {
   "cell_type": "markdown",
   "metadata": {},
   "source": [
    "## coin switches within index\n",
    "\n",
    "definition: A coin shift has occured in month t+1 if the set of selected coins for month t is not the same as month t+1.\n",
    "\n",
    "this is calculated by comparing the B matrix with the lagged B matrix."
   ]
  },
  {
   "cell_type": "code",
   "execution_count": null,
   "metadata": {
    "collapsed": true
   },
   "outputs": [],
   "source": [
    "b_vs_bshift = b.shift(1) != b\n",
    "fund_nr_coinswitches = b_vs_bshift.T.sum()\n",
    "fund_nr_coinswitches = fund_nr_coinswitches[1:] # delete first row"
   ]
  },
  {
   "cell_type": "markdown",
   "metadata": {},
   "source": [
    "The more coinswitches the harder it would be to replicate the portfolio on your own."
   ]
  },
  {
   "cell_type": "code",
   "execution_count": null,
   "metadata": {},
   "outputs": [],
   "source": [
    "fund_nr_coinswitches['2014':].plot()\n",
    "plt.title('Nr of coin switches in the fund')\n",
    "plt.ylabel('Coin switches')\n",
    "plt.show()"
   ]
  },
  {
   "cell_type": "code",
   "execution_count": null,
   "metadata": {},
   "outputs": [],
   "source": [
    "print(\"Nr of months with a coin switch:\", sum(fund_nr_coinswitches > 0), \"out of\", len(fund_nr_coinswitches))\n",
    "print(\"Median coins switches during a month:\", fund_nr_coinswitches.median())"
   ]
  },
  {
   "cell_type": "code",
   "execution_count": null,
   "metadata": {},
   "outputs": [],
   "source": [
    "print(\"example of a shift: NEM out, IOTA in\")\n",
    "print(b[b>0].iloc[-3,].sort_values()[0:11])\n",
    "print(b[b>0].iloc[-4,].sort_values()[0:11])"
   ]
  },
  {
   "cell_type": "markdown",
   "metadata": {},
   "source": [
    "## rebalancing changes\n",
    "\n",
    "begin with: delta weights. because this tells you how much there is to rebalance"
   ]
  },
  {
   "cell_type": "code",
   "execution_count": null,
   "metadata": {},
   "outputs": [],
   "source": [
    "w_change = w - w.shift(1)\n",
    "w_change[coins_infund].T.sum().plot()\n",
    "plt.title('Total weight change per month')\n",
    "plt.show()"
   ]
  },
  {
   "cell_type": "code",
   "execution_count": null,
   "metadata": {},
   "outputs": [],
   "source": [
    "w_change = w - w.shift(1)\n",
    "w_change[coins_infund].plot(legend=False)\n",
    "plt.show()"
   ]
  },
  {
   "cell_type": "code",
   "execution_count": null,
   "metadata": {},
   "outputs": [],
   "source": [
    "w_change[coins_top10].sum().plot.bar()\n",
    "plt.title('Sum of weight changes')\n",
    "plt.show()"
   ]
  },
  {
   "cell_type": "markdown",
   "metadata": {},
   "source": [
    "Logisk output: över tid så har dom som ligger i top 10 ätit sig in i fonden, på bekostnad av btc."
   ]
  },
  {
   "cell_type": "markdown",
   "metadata": {},
   "source": [
    "## coin switches in and out of index\n",
    "\n",
    "how often does a coin leave the top10?"
   ]
  },
  {
   "cell_type": "code",
   "execution_count": null,
   "metadata": {
    "collapsed": true
   },
   "outputs": [],
   "source": [
    "# todo\n",
    "# filter out the 10th mcap exactly. list that coin. if then sum series != series.shift(1)"
   ]
  },
  {
   "cell_type": "code",
   "execution_count": null,
   "metadata": {
    "collapsed": true
   },
   "outputs": [],
   "source": [
    "list_pth_coin = []\n",
    "for i in range(0, len(mcap_mat)):\n",
    "    row = mcap_mat.iloc[i]\n",
    "    coin_nr_p = row.sort_values(ascending=False).head(10).index[10-1]\n",
    "    list_pth_coin.append(coin_nr_p)\n",
    "list_pth_coin = pd.Series(list_pth_coin)"
   ]
  },
  {
   "cell_type": "code",
   "execution_count": null,
   "metadata": {},
   "outputs": [],
   "source": [
    "nr_switches = sum(list_pth_coin.shift(1) != list_pth_coin)\n",
    "nr_switches = nr_switches - 1 # but the first one was NA\n",
    "print(\"The number of months a coin at place 10 switched was\",\n",
    "      nr_switches.sum(), \n",
    "      \"out of\", len(mcap_mat), \"months\")"
   ]
  },
  {
   "cell_type": "markdown",
   "metadata": {},
   "source": [
    "## volumes\n",
    "\n",
    "exchanges make money on trading volume"
   ]
  },
  {
   "cell_type": "code",
   "execution_count": null,
   "metadata": {
    "scrolled": true
   },
   "outputs": [],
   "source": [
    "volumes[['Bitcoin', 'Ethereum', 'Ripple']].plot(logy=True)\n",
    "plt.ylabel('Volume')\n",
    "plt.show()"
   ]
  },
  {
   "cell_type": "code",
   "execution_count": null,
   "metadata": {
    "collapsed": true
   },
   "outputs": [],
   "source": [
    "# monthly data\n",
    "volume_m = volumes.resample('M').sum()"
   ]
  },
  {
   "cell_type": "code",
   "execution_count": null,
   "metadata": {
    "collapsed": true
   },
   "outputs": [],
   "source": [
    "volume_m.to_csv('output/volume_monthly.csv', na_rep='NaN')"
   ]
  },
  {
   "cell_type": "code",
   "execution_count": null,
   "metadata": {
    "collapsed": true
   },
   "outputs": [],
   "source": []
  },
  {
   "cell_type": "code",
   "execution_count": null,
   "metadata": {},
   "outputs": [],
   "source": [
    "# created above\n",
    "w_mat.shape, b_mat.shape\n",
    "\n",
    "\n",
    "fundvolume_binary = b_mat.fillna(0).as_matrix() * volume_m\n",
    "\n",
    "totvolume = volume_m.T.sum()\n",
    "fraq_fundvolume_binary = fundvolume_binary / totvolume\n",
    "fraq_fundvolume_binary.shape"
   ]
  },
  {
   "cell_type": "code",
   "execution_count": null,
   "metadata": {},
   "outputs": [],
   "source": [
    "volume_m.shape"
   ]
  },
  {
   "cell_type": "code",
   "execution_count": null,
   "metadata": {},
   "outputs": [],
   "source": [
    "totvolume.shape"
   ]
  },
  {
   "cell_type": "code",
   "execution_count": null,
   "metadata": {
    "collapsed": true
   },
   "outputs": [],
   "source": [
    "# w\n",
    "# marketcap_sel.div(marketcap_sel.sum(axis=1), axis=0)"
   ]
  },
  {
   "cell_type": "code",
   "execution_count": null,
   "metadata": {
    "collapsed": true
   },
   "outputs": [],
   "source": [
    "# fraction of volume for every coin\n",
    "fraq_volume_m_coins = volume_m.div(volume_m.sum(axis=1), axis=0)"
   ]
  },
  {
   "cell_type": "code",
   "execution_count": null,
   "metadata": {
    "collapsed": true
   },
   "outputs": [],
   "source": [
    "fraq_volume_m_sel = b_mat.as_matrix() * fraq_volume_m_coins\n",
    "fraq_fund_volume_m = fraq_volume_m_sel.sum(axis=1)\n",
    "#fraq_fund_volume_m.plot()\n",
    "#plt.show()"
   ]
  },
  {
   "cell_type": "code",
   "execution_count": null,
   "metadata": {},
   "outputs": [],
   "source": [
    "fraq_volume_m_coins[['Bitcoin', 'Litecoin']].plot()\n",
    "plt.ylabel('Fraction of volume')\n",
    "plt.show()"
   ]
  },
  {
   "cell_type": "code",
   "execution_count": null,
   "metadata": {},
   "outputs": [],
   "source": [
    "fundvolume_binary.T.sum().plot(logy=True)\n",
    "plt.title('Fund')\n",
    "plt.ylabel('Volume')\n",
    "plt.show()"
   ]
  },
  {
   "cell_type": "code",
   "execution_count": null,
   "metadata": {},
   "outputs": [],
   "source": [
    "fundret.index"
   ]
  },
  {
   "cell_type": "code",
   "execution_count": null,
   "metadata": {},
   "outputs": [],
   "source": [
    "fundvolume_binary.index"
   ]
  },
  {
   "cell_type": "code",
   "execution_count": null,
   "metadata": {
    "collapsed": true
   },
   "outputs": [],
   "source": [
    "# fraq_fund_volume_m['2014':].plot()"
   ]
  },
  {
   "cell_type": "code",
   "execution_count": null,
   "metadata": {
    "collapsed": true
   },
   "outputs": [],
   "source": [
    "fraq_fund_volume_m.columns = 'Fund'"
   ]
  },
  {
   "cell_type": "code",
   "execution_count": null,
   "metadata": {
    "collapsed": true
   },
   "outputs": [],
   "source": [
    "frac_volume_m = pd.concat([fraq_volume_m_coins, \n",
    "                           fraq_fund_volume_m], axis=1)"
   ]
  },
  {
   "cell_type": "code",
   "execution_count": null,
   "metadata": {},
   "outputs": [],
   "source": [
    "selection3 = ['Fund', 'Bitcoin', 'Litecoin', 'Ripple']\n",
    "frac_volume_m.loc['2014':, selection3].plot()\n",
    "plt.ylabel('Fraction of volume')\n",
    "plt.title('Fund captures more volume')\n",
    "plt.show()"
   ]
  },
  {
   "cell_type": "code",
   "execution_count": null,
   "metadata": {
    "collapsed": true
   },
   "outputs": [],
   "source": [
    "# volumes_fraq = volumes.div(volumes.sum())"
   ]
  },
  {
   "cell_type": "code",
   "execution_count": null,
   "metadata": {
    "collapsed": true
   },
   "outputs": [],
   "source": [
    "# volumes_fraq.tail(2).T.sum()"
   ]
  },
  {
   "cell_type": "code",
   "execution_count": null,
   "metadata": {},
   "outputs": [],
   "source": [
    "fraq_volu_1 = pd.concat([fraq_volume_m_coins[['Bitcoin', 'Ethereum']], \n",
    "                         1-fraq_volume_m_coins[['Bitcoin', 'Ethereum']].T.sum()], \n",
    "                        axis=1)\n",
    "fraq_volu_1 = fraq_volu_1.loc['2014':'2018-02']\n",
    "fraq_volu_1.columns = ['Bitcoin', 'Ethereum', 'Others']\n",
    "fraq_volu_1.plot.area(color=[clr_btc, clr_eth, clr_oth], alpha=alpha_)\n",
    "fraq_fund_volume_m['2014':'2018-02'].plot(color=clr_fund, linewidth=3)\n",
    "plt.legend(list(fraq_volu_1.columns) + ['Fund'])\n",
    "plt.ylabel('Fraction of total volume')\n",
    "plt.title('Volume covered by the fund \\n exceeds Bitcoin and Ethereum')\n",
    "plt.savefig('output/volu_fraq_largesize.png', dpi=750)\n",
    "plt.savefig('output/volu_fraq_smallsize.png')\n",
    "# klippte vid 2018-02 för det såg bättre ut\n",
    "plt.show()"
   ]
  },
  {
   "cell_type": "code",
   "execution_count": null,
   "metadata": {
    "collapsed": true
   },
   "outputs": [],
   "source": []
  },
  {
   "cell_type": "code",
   "execution_count": null,
   "metadata": {
    "collapsed": true
   },
   "outputs": [],
   "source": []
  }
 ],
 "metadata": {
  "kernelspec": {
   "display_name": "Python 3",
   "language": "python",
   "name": "python3"
  },
  "language_info": {
   "codemirror_mode": {
    "name": "ipython",
    "version": 3
   },
   "file_extension": ".py",
   "mimetype": "text/x-python",
   "name": "python",
   "nbconvert_exporter": "python",
   "pygments_lexer": "ipython3",
   "version": "3.6.3"
  }
 },
 "nbformat": 4,
 "nbformat_minor": 2
}
